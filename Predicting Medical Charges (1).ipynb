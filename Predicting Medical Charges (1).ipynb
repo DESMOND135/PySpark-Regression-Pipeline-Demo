{
 "cells": [
  {
   "cell_type": "markdown",
   "id": "ba054473-154f-4b95-814d-3a98c8d748d4",
   "metadata": {},
   "source": [
    "###  **PySpark Regression Pipeline Demo – Predicting Medical Charges**\n",
    "\n",
    "####  **Overview**:\n",
    "\n",
    "This demo walks through a complete **machine learning pipeline in PySpark** to predict `charges` (medical costs) based on features such as `age`, `sex`, `bmi`, `smoker`, `region`, and `children`. It includes **data preprocessing**, **feature engineering**, **model training**, and **evaluation** using multiple regression metrics.\n",
    "\n",
    "####  **Key Steps**:\n",
    "\n",
    "* Encode categorical features using `StringIndexer` and `OneHotEncoder`\n",
    "* Assemble all features into a single vector\n",
    "* Standardize numerical inputs (optional but recommended)\n",
    "* Train a `LinearRegression` model using Spark MLlib\n",
    "* Evaluate the model using RMSE, MAE, MSE, and R²\n"
   ]
  },
  {
   "cell_type": "markdown",
   "id": "2413abc6-9431-4bd7-bbc2-ae14cac2dbbc",
   "metadata": {},
   "source": [
    "# Import Required Libraries"
   ]
  },
  {
   "cell_type": "code",
   "execution_count": 2,
   "id": "c18cb58f-f239-476f-b1a8-b79f07a74a64",
   "metadata": {},
   "outputs": [],
   "source": [
    "\n",
    "import  pyspark\n",
    "from pyspark.sql import SparkSession\n",
    "from pyspark.ml import Pipeline\n",
    "from pyspark.ml.feature import StringIndexer, OneHotEncoder, VectorAssembler, StandardScaler\n",
    "from pyspark.ml.regression import LinearRegression\n",
    "from pyspark.ml.evaluation import RegressionEvaluator"
   ]
  },
  {
   "cell_type": "markdown",
   "id": "920a35d6-3119-43c9-a9b1-b245c42ae0e4",
   "metadata": {},
   "source": [
    "# Create SparkSession"
   ]
  },
  {
   "cell_type": "code",
   "execution_count": 3,
   "id": "8a3fe21f-e8de-47e6-ad29-6a60eac37baa",
   "metadata": {},
   "outputs": [
    {
     "data": {
      "text/html": [
       "\n",
       "            <div>\n",
       "                <p><b>SparkSession - in-memory</b></p>\n",
       "                \n",
       "        <div>\n",
       "            <p><b>SparkContext</b></p>\n",
       "\n",
       "            <p><a href=\"http://DESKTOP-S14ND4H.mshome.net:4041\">Spark UI</a></p>\n",
       "\n",
       "            <dl>\n",
       "              <dt>Version</dt>\n",
       "                <dd><code>v4.0.0</code></dd>\n",
       "              <dt>Master</dt>\n",
       "                <dd><code>local[*]</code></dd>\n",
       "              <dt>AppName</dt>\n",
       "                <dd><code>practice</code></dd>\n",
       "            </dl>\n",
       "        </div>\n",
       "        \n",
       "            </div>\n",
       "        "
      ],
      "text/plain": [
       "<pyspark.sql.session.SparkSession at 0x1f5e485f500>"
      ]
     },
     "execution_count": 3,
     "metadata": {},
     "output_type": "execute_result"
    }
   ],
   "source": [
    "spark = SparkSession.builder.appName('practice').getOrCreate()\n",
    "spark"
   ]
  },
  {
   "cell_type": "markdown",
   "id": "ee5d7daf-72e0-4357-98c9-5b72b183a337",
   "metadata": {},
   "source": [
    "# Load and Inspect Dataset"
   ]
  },
  {
   "cell_type": "code",
   "execution_count": 4,
   "id": "8d8a2bab-3b09-48b8-890b-5ff542097eaf",
   "metadata": {},
   "outputs": [],
   "source": [
    "# Load dataset\n",
    "# Replace with actual path or use a Spark table in Databricks\n",
    "df = spark.read.csv(\"TRAIN.csv\", header=True, inferSchema=True)"
   ]
  },
  {
   "cell_type": "code",
   "execution_count": 5,
   "id": "4e1476af-4310-457b-90fe-3ae927c91729",
   "metadata": {},
   "outputs": [
    {
     "name": "stdout",
     "output_type": "stream",
     "text": [
      "root\n",
      " |-- age: double (nullable = true)\n",
      " |-- sex: string (nullable = true)\n",
      " |-- bmi: double (nullable = true)\n",
      " |-- smoker: string (nullable = true)\n",
      " |-- region: string (nullable = true)\n",
      " |-- children: integer (nullable = true)\n",
      " |-- charges: double (nullable = true)\n",
      "\n",
      "+-----------+------+-----------+------+---------+--------+-----------+\n",
      "|age        |sex   |bmi        |smoker|region   |children|charges    |\n",
      "+-----------+------+-----------+------+---------+--------+-----------+\n",
      "|21.0       |male  |25.745     |no    |northeast|2       |3279.86855 |\n",
      "|36.976978  |female|25.74416485|yes   |southeast|3       |21454.49424|\n",
      "|18.0       |male  |30.03      |no    |southeast|1       |1720.3537  |\n",
      "|37.0       |male  |30.67689127|no    |northeast|3       |6801.437542|\n",
      "|58.0       |male  |32.01      |no    |southeast|1       |11946.6259 |\n",
      "|46.0       |male  |26.62      |no    |southeast|1       |7742.1098  |\n",
      "|25.22173065|male  |31.19264736|no    |northeast|4       |21736.32814|\n",
      "|29.48644271|female|24.22261415|no    |northwest|2       |4916.953065|\n",
      "|26.52049427|male  |25.06571227|no    |southwest|5       |5515.809345|\n",
      "|47.49347612|female|27.30201322|no    |northwest|3       |17009.33499|\n",
      "|35.69460731|male  |33.57712776|yes   |southwest|2       |38433.5243 |\n",
      "|45.0       |female|26.91741127|no    |northeast|2       |8549.137155|\n",
      "|36.42084212|male  |31.80639454|no    |northeast|4       |16099.36762|\n",
      "|44.32531031|female|26.93787533|no    |southwest|1       |7492.985451|\n",
      "|22.34422463|male  |27.04518479|no    |northeast|4       |18091.37381|\n",
      "|46.697739  |male  |33.55485918|yes   |northeast|1       |41501.65555|\n",
      "|19.86085293|female|25.32350602|no    |northwest|1       |2661.191273|\n",
      "|47.0       |male  |36.08      |yes   |southeast|1       |42211.1382 |\n",
      "|64.0       |female|30.115     |no    |northwest|3       |16455.70785|\n",
      "|29.0       |male  |32.11      |no    |northwest|2       |4433.9159  |\n",
      "+-----------+------+-----------+------+---------+--------+-----------+\n",
      "only showing top 20 rows\n"
     ]
    }
   ],
   "source": [
    "df.printSchema()\n",
    "df.show(truncate=False)"
   ]
  },
  {
   "cell_type": "code",
   "execution_count": 6,
   "id": "7622480e-0a0d-45b5-a147-6fc2ef1fd2a0",
   "metadata": {},
   "outputs": [
    {
     "data": {
      "text/plain": [
       "['age', 'sex', 'bmi', 'smoker', 'region', 'children', 'charges']"
      ]
     },
     "execution_count": 6,
     "metadata": {},
     "output_type": "execute_result"
    }
   ],
   "source": [
    "df.columns"
   ]
  },
  {
   "cell_type": "markdown",
   "id": "9584361b-5b28-4122-bfd5-e1ec6458087e",
   "metadata": {},
   "source": [
    "# Preprocess Data – Encode Categorical Features"
   ]
  },
  {
   "cell_type": "code",
   "execution_count": 7,
   "id": "b3ce880e-6c0c-46da-8445-0124a2846bde",
   "metadata": {},
   "outputs": [
    {
     "name": "stdout",
     "output_type": "stream",
     "text": [
      "+------+------+---------+---------+------------+------------+\n",
      "|   sex|smoker|   region|sex_index|smoker_index|region_index|\n",
      "+------+------+---------+---------+------------+------------+\n",
      "|  male|    no|northeast|      0.0|         0.0|         3.0|\n",
      "|female|   yes|southeast|      1.0|         1.0|         0.0|\n",
      "|  male|    no|southeast|      0.0|         0.0|         0.0|\n",
      "|  male|    no|northeast|      0.0|         0.0|         3.0|\n",
      "|  male|    no|southeast|      0.0|         0.0|         0.0|\n",
      "+------+------+---------+---------+------------+------------+\n",
      "only showing top 5 rows\n"
     ]
    }
   ],
   "source": [
    "from pyspark.ml.feature import StringIndexer\n",
    "\n",
    "# Define categorical columns\n",
    "categorical_cols = ['sex', 'smoker', 'region']\n",
    "index_output_cols = [col + \"_index\" for col in categorical_cols]\n",
    "\n",
    "# Create a single StringIndexer for multiple columns\n",
    "indexer = StringIndexer(inputCols=categorical_cols, outputCols=index_output_cols, handleInvalid=\"keep\")\n",
    "\n",
    "# Fit and transform the data\n",
    "df = indexer.fit(df).transform(df)\n",
    "\n",
    "# Show results\n",
    "df.select(categorical_cols + index_output_cols).show(5)\n"
   ]
  },
  {
   "cell_type": "markdown",
   "id": "f3f9aa12-62b2-4ac7-a1f8-5e7f6ee667fd",
   "metadata": {},
   "source": [
    "# Preprocess Data – Index"
   ]
  },
  {
   "cell_type": "code",
   "execution_count": 8,
   "id": "acb40abb-dc78-4259-9549-7388528b985e",
   "metadata": {},
   "outputs": [],
   "source": [
    "from pyspark.ml.feature import OneHotEncoder\n",
    "\n",
    "ohe_output_cols = [col + \"_vec\" for col in categorical_cols]\n",
    "encoder = OneHotEncoder(inputCols=index_output_cols, outputCols=ohe_output_cols)\n",
    "df = encoder.fit(df).transform(df)"
   ]
  },
  {
   "cell_type": "markdown",
   "id": "fb23a131-8df5-4d12-9a1f-678993b348b0",
   "metadata": {},
   "source": [
    "# Assemble Features into a Single Vector"
   ]
  },
  {
   "cell_type": "code",
   "execution_count": 9,
   "id": "4a50ac1e-be72-410c-acdf-81edb07d67dc",
   "metadata": {},
   "outputs": [],
   "source": [
    "numeric_cols = ['age', 'bmi', 'children']\n",
    "assembler_inputs = numeric_cols + ohe_output_cols\n",
    "assembler = VectorAssembler(inputCols=assembler_inputs, outputCol=\"features\")\n",
    "df = assembler.transform(df)"
   ]
  },
  {
   "cell_type": "markdown",
   "id": "e7eec31d-8b70-4abe-9d2a-d64921c2bec6",
   "metadata": {},
   "source": [
    "#  Standardize Features"
   ]
  },
  {
   "cell_type": "code",
   "execution_count": 10,
   "id": "881c28d5-d573-4992-bb97-17d6422e420d",
   "metadata": {},
   "outputs": [],
   "source": [
    "scaler = StandardScaler(inputCol=\"features\", outputCol=\"scaled_features\", withMean=True, withStd=True)\n",
    "scaler_model = scaler.fit(df)\n",
    "df = scaler_model.transform(df)"
   ]
  },
  {
   "cell_type": "markdown",
   "id": "005e4143-1f18-48cf-8e49-4eafe9b68ed4",
   "metadata": {},
   "source": [
    "# Split Data into Training and Test Sets"
   ]
  },
  {
   "cell_type": "code",
   "execution_count": 11,
   "id": "afb9fbb5-f1aa-441c-be62-f02de265ed93",
   "metadata": {},
   "outputs": [],
   "source": [
    "train_df, test_df = df.randomSplit([0.8, 0.2], seed=42)"
   ]
  },
  {
   "cell_type": "markdown",
   "id": "a9940069-9569-49a3-9720-4b1ec2b0ae66",
   "metadata": {},
   "source": [
    "# Train Linear Regression Model"
   ]
  },
  {
   "cell_type": "code",
   "execution_count": 12,
   "id": "4185fe24-3712-4d1d-bdf5-9e6ef0aa3f53",
   "metadata": {},
   "outputs": [],
   "source": [
    "lr = LinearRegression(featuresCol=\"scaled_features\", labelCol=\"charges\")\n",
    "lr_model = lr.fit(train_df)"
   ]
  },
  {
   "cell_type": "markdown",
   "id": "175022cd-070d-4123-94ac-132d2d54c062",
   "metadata": {},
   "source": [
    "# Make Predictions on Test Data"
   ]
  },
  {
   "cell_type": "code",
   "execution_count": 13,
   "id": "765e8456-0059-4f53-a2ff-0888201f3573",
   "metadata": {},
   "outputs": [
    {
     "name": "stdout",
     "output_type": "stream",
     "text": [
      "+-----------+------+-----------+------+---------+--------+-----------+---------+------------+------------+-------------+-------------+-------------+--------------------+--------------------+------------------+\n",
      "|        age|   sex|        bmi|smoker|   region|children|    charges|sex_index|smoker_index|region_index|      sex_vec|   smoker_vec|   region_vec|            features|     scaled_features|        prediction|\n",
      "+-----------+------+-----------+------+---------+--------+-----------+---------+------------+------------+-------------+-------------+-------------+--------------------+--------------------+------------------+\n",
      "|       18.0|female|      25.08|    no|northeast|       0|  2196.4732|      1.0|         0.0|         3.0|(2,[1],[1.0])|(2,[0],[1.0])|(4,[3],[1.0])|(11,[0,1,4,5,10],...|[-1.7189520097957...|2219.6308871349247|\n",
      "|       18.0|female|      27.28|   yes|southeast|       3| 18223.4512|      1.0|         1.0|         0.0|(2,[1],[1.0])|(2,[1],[1.0])|(4,[0],[1.0])|(11,[0,1,2,4,6,7]...|[-1.7189520097957...|25518.202723848706|\n",
      "|       18.0|female|     29.165|    no|northeast|       0|7323.734819|      1.0|         0.0|         3.0|(2,[1],[1.0])|(2,[0],[1.0])|(4,[3],[1.0])|(11,[0,1,4,5,10],...|[-1.7189520097957...| 3372.945486812723|\n",
      "|       18.0|female|      31.35|    no|northeast|       4|  4561.1885|      1.0|         0.0|         3.0|(2,[1],[1.0])|(2,[0],[1.0])|(4,[3],[1.0])|(11,[0,1,2,4,5,10...|[-1.7189520097957...| 6241.049343137458|\n",
      "|       18.0|female|      36.85|    no|southeast|       0|  1629.8335|      1.0|         0.0|         0.0|(2,[1],[1.0])|(2,[0],[1.0])|(4,[0],[1.0])|(11,[0,1,4,5,7],[...|[-1.7189520097957...|3682.9422511236153|\n",
      "|       18.0|female|      38.17|    no|southeast|       0|  1631.6683|      1.0|         0.0|         0.0|(2,[1],[1.0])|(2,[0],[1.0])|(4,[0],[1.0])|(11,[0,1,4,5,7],[...|[-1.7189520097957...|  4055.61673620922|\n",
      "|       18.0|female|      39.82|    no|southeast|       0|  1633.9618|      1.0|         0.0|         0.0|(2,[1],[1.0])|(2,[0],[1.0])|(4,[0],[1.0])|(11,[0,1,4,5,7],[...|[-1.7189520097957...| 4521.459842566224|\n",
      "|       18.0|  male|      17.29|   yes|northeast|       2| 12829.4551|      0.0|         1.0|         3.0|(2,[0],[1.0])|(2,[1],[1.0])|(4,[3],[1.0])|(11,[0,1,2,3,6,10...|[-1.7189520097957...| 25265.15516902195|\n",
      "|       18.0|  male|24.35764995|    no|southeast|       1|1712.469133|      0.0|         0.0|         0.0|(2,[0],[1.0])|(2,[0],[1.0])|(4,[0],[1.0])|(11,[0,1,2,3,5,7]...|[-1.7189520097957...|1989.3128514772525|\n",
      "|       18.0|  male|      25.46|    no|northeast|       0|  1708.0014|      0.0|         0.0|         3.0|(2,[0],[1.0])|(2,[0],[1.0])|(4,[3],[1.0])|(11,[0,1,3,5,10],...|[-1.7189520097957...|3597.4375417433002|\n",
      "|       18.0|  male|     26.125|    no|northeast|       0| 1708.92575|      0.0|         0.0|         3.0|(2,[0],[1.0])|(2,[0],[1.0])|(4,[3],[1.0])|(11,[0,1,3,5,10],...|[-1.7189520097957...|3785.1864300629422|\n",
      "|       18.0|  male|      28.31|    no|northeast|       1|11272.33139|      0.0|         0.0|         3.0|(2,[0],[1.0])|(2,[0],[1.0])|(4,[3],[1.0])|(11,[0,1,2,3,5,10...|[-1.7189520097957...| 4964.879297503241|\n",
      "|       18.0|  male|      30.03|    no|southeast|       1|  1720.3537|      0.0|         0.0|         0.0|(2,[0],[1.0])|(2,[0],[1.0])|(4,[0],[1.0])|(11,[0,1,2,3,5,7]...|[-1.7189520097957...|3590.7826500447172|\n",
      "|       18.0|  male|      33.33|    no|southeast|       0|  1135.9407|      0.0|         0.0|         0.0|(2,[0],[1.0])|(2,[0],[1.0])|(4,[0],[1.0])|(11,[0,1,3,5,7],[...|[-1.7189520097957...|3959.6651997972494|\n",
      "|       18.0|  male|      34.43|    no|southeast|       0|  1137.4697|      0.0|         0.0|         0.0|(2,[0],[1.0])|(2,[0],[1.0])|(4,[0],[1.0])|(11,[0,1,3,5,7],[...|[-1.7189520097957...| 4270.227270701922|\n",
      "|       18.0|  male|      53.13|    no|southeast|       0|  1163.4627|      0.0|         0.0|         0.0|(2,[0],[1.0])|(2,[0],[1.0])|(4,[0],[1.0])|(11,[0,1,3,5,7],[...|[-1.7189520097957...| 9549.782476081316|\n",
      "|18.27230366|female|34.09451659|    no|southeast|       1|2220.022207|      1.0|         0.0|         0.0|(2,[1],[1.0])|(2,[0],[1.0])|(4,[0],[1.0])|(11,[0,1,2,4,5,7]...|[-1.6965420846566...|3533.3532944842755|\n",
      "|       19.0|female|      28.31|   yes|northwest|       0| 17468.9839|      1.0|         1.0|         1.0|(2,[1],[1.0])|(2,[1],[1.0])|(4,[1],[1.0])|(11,[0,1,4,6,8],[...|[-1.6366544558845...| 23961.65409708613|\n",
      "|       19.0|female|      32.11|    no|northwest|       0|  2130.6759|      1.0|         0.0|         1.0|(2,[1],[1.0])|(2,[0],[1.0])|(4,[1],[1.0])|(11,[0,1,4,5,8],[...|[-1.6366544558845...| 2185.765386772795|\n",
      "|       19.0|female|      35.15|    no|northwest|       0|  2134.9015|      1.0|         0.0|         1.0|(2,[1],[1.0])|(2,[0],[1.0])|(4,[1],[1.0])|(11,[0,1,4,5,8],[...|[-1.6366544558845...|3044.0460190911563|\n",
      "+-----------+------+-----------+------+---------+--------+-----------+---------+------------+------------+-------------+-------------+-------------+--------------------+--------------------+------------------+\n",
      "only showing top 20 rows\n"
     ]
    }
   ],
   "source": [
    "predictions = lr_model.transform(test_df)\n",
    "predictions.show()"
   ]
  },
  {
   "cell_type": "markdown",
   "id": "795eaf45-b760-4acd-a0bf-c14356cd5e9f",
   "metadata": {},
   "source": [
    "# Evaluate Model Performance with Regression Metrics"
   ]
  },
  {
   "cell_type": "code",
   "execution_count": 14,
   "id": "7e8fb50a-c822-411d-b942-82ed87c1e741",
   "metadata": {},
   "outputs": [
    {
     "name": "stdout",
     "output_type": "stream",
     "text": [
      "Root Mean Squared Error (RMSE): 5844.4031\n",
      "Mean Squared Error (MSE): 34157047.3721\n",
      "Mean Absolute Error (MAE): 3843.7246\n",
      "R-squared (R²): 0.6883\n"
     ]
    }
   ],
   "source": [
    "from pyspark.ml.evaluation import RegressionEvaluator\n",
    "\n",
    "# Define evaluators with different metrics\n",
    "evaluator_rmse = RegressionEvaluator(labelCol=\"charges\", predictionCol=\"prediction\", metricName=\"rmse\")\n",
    "evaluator_mse = RegressionEvaluator(labelCol=\"charges\", predictionCol=\"prediction\", metricName=\"mse\")\n",
    "evaluator_mae = RegressionEvaluator(labelCol=\"charges\", predictionCol=\"prediction\", metricName=\"mae\")\n",
    "evaluator_r2 = RegressionEvaluator(labelCol=\"charges\", predictionCol=\"prediction\", metricName=\"r2\")\n",
    "\n",
    "# Evaluate the model\n",
    "rmse = evaluator_rmse.evaluate(predictions)\n",
    "mse = evaluator_mse.evaluate(predictions)\n",
    "mae = evaluator_mae.evaluate(predictions)\n",
    "r2 = evaluator_r2.evaluate(predictions)\n",
    "\n",
    "# Print all results\n",
    "print(f\"Root Mean Squared Error (RMSE): {rmse:.4f}\")\n",
    "print(f\"Mean Squared Error (MSE): {mse:.4f}\")\n",
    "print(f\"Mean Absolute Error (MAE): {mae:.4f}\")\n",
    "print(f\"R-squared (R²): {r2:.4f}\")\n"
   ]
  },
  {
   "cell_type": "code",
   "execution_count": 15,
   "id": "5f5276c3-91bc-459d-a07c-6fe3759d2bce",
   "metadata": {},
   "outputs": [
    {
     "name": "stdout",
     "output_type": "stream",
     "text": [
      "+----+------+------+---------+-----------+------------------+\n",
      "| age|   sex|smoker|   region|    charges|        prediction|\n",
      "+----+------+------+---------+-----------+------------------+\n",
      "|18.0|female|    no|northeast|  2196.4732|2219.6308871349247|\n",
      "|18.0|female|   yes|southeast| 18223.4512|25518.202723848706|\n",
      "|18.0|female|    no|northeast|7323.734819| 3372.945486812723|\n",
      "|18.0|female|    no|northeast|  4561.1885| 6241.049343137458|\n",
      "|18.0|female|    no|southeast|  1629.8335|3682.9422511236153|\n",
      "+----+------+------+---------+-----------+------------------+\n",
      "only showing top 5 rows\n"
     ]
    }
   ],
   "source": [
    "predictions.select(\"age\", \"sex\", \"smoker\", \"region\", \"charges\", \"prediction\").show(5)"
   ]
  },
  {
   "cell_type": "code",
   "execution_count": null,
   "id": "790c5371-311c-4a7d-ba21-d2a0af36a13d",
   "metadata": {},
   "outputs": [],
   "source": []
  },
  {
   "cell_type": "code",
   "execution_count": null,
   "id": "8580331a-f53d-4c1d-8d7b-e6db488506b2",
   "metadata": {},
   "outputs": [],
   "source": []
  }
 ],
 "metadata": {
  "kernelspec": {
   "display_name": "Python 3 (ipykernel)",
   "language": "python",
   "name": "python3"
  },
  "language_info": {
   "codemirror_mode": {
    "name": "ipython",
    "version": 3
   },
   "file_extension": ".py",
   "mimetype": "text/x-python",
   "name": "python",
   "nbconvert_exporter": "python",
   "pygments_lexer": "ipython3",
   "version": "3.12.4"
  }
 },
 "nbformat": 4,
 "nbformat_minor": 5
}
